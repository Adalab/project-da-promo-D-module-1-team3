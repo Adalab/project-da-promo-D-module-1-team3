{
 "cells": [
  {
   "cell_type": "code",
   "execution_count": 1,
   "metadata": {},
   "outputs": [],
   "source": [
    "import re"
   ]
  },
  {
   "cell_type": "code",
   "execution_count": 19,
   "metadata": {},
   "outputs": [],
   "source": [
    "# solo tenemos la direccion\n",
    "\n",
    "def apertura_txt(origen_txt):\n",
    "    with open(origen_txt, 'r') as file:\n",
    "        global file_source\n",
    "        file_source = file.readlines()\n",
    "    print('Tus datos están listos para ser procesados en la variable file_source')\n",
    "    #return file_source"
   ]
  },
  {
   "cell_type": "code",
   "execution_count": 20,
   "metadata": {},
   "outputs": [
    {
     "name": "stdout",
     "output_type": "stream",
     "text": [
      "Tus datos están listos para ser procesados en la variable file_source\n"
     ]
    }
   ],
   "source": [
    "apertura_txt('../data/Proyecto1_data_txt.txt')"
   ]
  },
  {
   "cell_type": "code",
   "execution_count": 21,
   "metadata": {},
   "outputs": [],
   "source": [
    "def limpiar_txt(file_source):\n",
    "\n",
    "    \"\"\" Importamos regex para limpiar el string\"\"\"\n",
    "\n",
    "    #import re\n",
    "    \n",
    "    \"\"\" Convertimos la lista de strings inicial en una lista de listas, separando por ; \"\"\"\n",
    "\n",
    "    for i in range(len(file_source)):\n",
    "        file_source[i] = file_source[i].split(\";\")\n",
    "\n",
    "    \"\"\"Eliminamos los espacios sobrantes al inicio y final de cada elemento\"\"\"\n",
    "\n",
    "    for i in file_source:\n",
    "        for indice, elemento in enumerate(i):\n",
    "            i[indice] = elemento.strip()\n",
    "\n",
    "    \"\"\" Reemplazamos los caracteres < por under\"\"\"\n",
    "\n",
    "    for i in file_source:\n",
    "        for indice, elemento in enumerate(i):\n",
    "            i[indice] = elemento.replace(\"<\", \"under\")\n",
    "\n",
    "    \"\"\" Reemplazamos null por NULL\"\"\"\n",
    "\n",
    "    for i in file_source:\n",
    "        for indice, elemento in enumerate(i):\n",
    "            i[indice] = elemento.replace(\"null\", \"NULL\")\n",
    "\n",
    "    \"\"\" Eliminamos los saltos de línea\"\"\"\n",
    "\n",
    "    for i in file_source:\n",
    "        for indice, elemento in enumerate(i):\n",
    "            i[indice] = elemento.replace(\"\\n\", \"\")\n",
    "\n",
    "    \"\"\" Al separar por ';' hemos obtenido strings vacíos que parecen corresponder a preguntas no respondidas. \"\"\"\n",
    "\n",
    "    for i in file_source:\n",
    "        for indice, elemento in enumerate(i):\n",
    "            if elemento == '':\n",
    "                i[indice] = elemento.replace('', 'NULL')\n",
    "\n",
    "    \"\"\" Eliminamos los espacios sobrantes dentro de un mismo elemento\"\"\"\n",
    "\n",
    "    patron_espacios = \"\\s*,\\s+\"\n",
    "    \n",
    "    for i in file_source:\n",
    "        for indice, elemento in enumerate(i):\n",
    "            i[indice] = re.sub(patron_espacios, \", \", elemento)\n",
    "\n",
    "    \"\"\" Eliminamos comas en números\"\"\"\n",
    "\n",
    "    numeros = \"0123456789\"\n",
    "\n",
    "    for i in file_source:\n",
    "        for indice, elemento in enumerate(i):\n",
    "            if elemento[0] in numeros:\n",
    "                i[indice] = elemento.replace(\",\", \".\")\n",
    "\n",
    "\n",
    "    for indice, elemento in enumerate(file_source):\n",
    "        file_source[indice] = tuple(elemento)\n",
    "\n",
    "\n",
    "    \"\"\" El archivo limpio se devuelve en forma de lista de tuplas\"\"\"\n",
    "    return 'Tus datos limpios se han guardado en la variable file_source'"
   ]
  },
  {
   "cell_type": "code",
   "execution_count": 22,
   "metadata": {},
   "outputs": [
    {
     "data": {
      "text/plain": [
       "'Tus datos limpios se han guardado en la variable file_source'"
      ]
     },
     "execution_count": 22,
     "metadata": {},
     "output_type": "execute_result"
    }
   ],
   "source": [
    "limpiar_txt(file_source)"
   ]
  }
 ],
 "metadata": {
  "kernelspec": {
   "display_name": "base",
   "language": "python",
   "name": "python3"
  },
  "language_info": {
   "codemirror_mode": {
    "name": "ipython",
    "version": 3
   },
   "file_extension": ".py",
   "mimetype": "text/x-python",
   "name": "python",
   "nbconvert_exporter": "python",
   "pygments_lexer": "ipython3",
   "version": "3.9.7"
  },
  "orig_nbformat": 4
 },
 "nbformat": 4,
 "nbformat_minor": 2
}
