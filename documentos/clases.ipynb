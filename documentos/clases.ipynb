{
 "cells": [
  {
   "cell_type": "code",
   "execution_count": 9,
   "metadata": {},
   "outputs": [],
   "source": [
    "import re\n",
    "import os\n",
    "import xml.etree.ElementTree as ET"
   ]
  },
  {
   "cell_type": "code",
   "execution_count": 10,
   "metadata": {},
   "outputs": [],
   "source": [
    "class Lectura_datos:\n",
    "    def __init__(self, ruta, nombre):\n",
    "        self.ruta = ruta\n",
    "        self.nombre = nombre\n",
    "        self.ubicacion_archivo = ruta + nombre\n",
    "\n",
    "    def apertura_txt(self):\n",
    "        with open(self.ubicacion_archivo, 'r') as file:\n",
    "            global file_source\n",
    "            file_source = file.readlines()\n",
    "        print('Tus datos están listos para ser procesados en la variable file_source')\n",
    "\n",
    "    def apertura_xml(self):\n",
    "        global file_source_xml\n",
    "        file_source_xml = ET.parse(self.ubicacion_archivo)\n",
    "        return 'Tu archivo se ha guardado en la variable file_source_xml'"
   ]
  },
  {
   "cell_type": "code",
   "execution_count": 11,
   "metadata": {},
   "outputs": [],
   "source": [
    "ejemplo1 = Lectura_datos('../data/','Proyecto1_data_txt.txt')"
   ]
  },
  {
   "cell_type": "code",
   "execution_count": 12,
   "metadata": {},
   "outputs": [
    {
     "name": "stdout",
     "output_type": "stream",
     "text": [
      "Tus datos están listos para ser procesados en la variable file_source\n"
     ]
    }
   ],
   "source": [
    "ejemplo1.apertura_txt()"
   ]
  },
  {
   "cell_type": "code",
   "execution_count": 13,
   "metadata": {},
   "outputs": [],
   "source": [
    "ejemplo2 = Lectura_datos('../data/','data_xml.xml',)"
   ]
  },
  {
   "cell_type": "code",
   "execution_count": 14,
   "metadata": {},
   "outputs": [
    {
     "data": {
      "text/plain": [
       "'Tu archivo se ha guardado en la variable file_source_xml'"
      ]
     },
     "execution_count": 14,
     "metadata": {},
     "output_type": "execute_result"
    }
   ],
   "source": [
    "ejemplo2.apertura_xml()"
   ]
  }
 ],
 "metadata": {
  "kernelspec": {
   "display_name": "Python 3",
   "language": "python",
   "name": "python3"
  },
  "language_info": {
   "codemirror_mode": {
    "name": "ipython",
    "version": 3
   },
   "file_extension": ".py",
   "mimetype": "text/x-python",
   "name": "python",
   "nbconvert_exporter": "python",
   "pygments_lexer": "ipython3",
   "version": "3.9.7"
  },
  "orig_nbformat": 4
 },
 "nbformat": 4,
 "nbformat_minor": 2
}
