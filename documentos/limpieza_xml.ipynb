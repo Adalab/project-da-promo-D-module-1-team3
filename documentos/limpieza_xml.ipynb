{
 "cells": [
  {
   "cell_type": "code",
   "execution_count": 24,
   "metadata": {},
   "outputs": [],
   "source": [
    "import re\n",
    "import os\n",
    "import xml.etree.ElementTree as ET\n",
    "\n"
   ]
  },
  {
   "cell_type": "code",
   "execution_count": 25,
   "metadata": {},
   "outputs": [],
   "source": [
    "def apertura_xml(origen_xml):\n",
    "    global file_source_xml\n",
    "    file_source_xml = ET.parse(origen_xml)\n",
    "    return 'Tu archivo se ha guardado en la variable file_source_xml'\n"
   ]
  },
  {
   "cell_type": "code",
   "execution_count": 26,
   "metadata": {},
   "outputs": [
    {
     "data": {
      "text/plain": [
       "'Tu archivo se ha guardado en la variable file_source_xml'"
      ]
     },
     "execution_count": 26,
     "metadata": {},
     "output_type": "execute_result"
    }
   ],
   "source": [
    "apertura_xml('../data/data_xml.xml')"
   ]
  },
  {
   "cell_type": "code",
   "execution_count": 27,
   "metadata": {},
   "outputs": [],
   "source": [
    "def limpieza_xml(tree):\n",
    "    \n",
    "    root = tree.getroot()\n",
    "    global xml_list\n",
    "    xml_list = []\n",
    "    for child in root:\n",
    "        xml_dict = {}\n",
    "        for subchild in child:\n",
    "            xml_dict[subchild.tag] = subchild.text\n",
    "        xml_list.append(xml_dict)\n",
    "            \n",
    "    for i in xml_list:\n",
    "        i.pop(\"level_0\")\n",
    "  \n",
    "    #print(xml_list)\n",
    "    \n",
    "    for i in xml_list:\n",
    "        if  i[\"gender\"] == \"0\":\n",
    "            i[\"gender\"] = \"man\"\n",
    "    \n",
    "        elif i[\"gender\"] == \"1\":\n",
    "            i[\"gender\"] = \"woman\"\n",
    "    \n",
    "        elif i[\"gender\"] == \"2\":\n",
    "            i[\"gender\"] = \"nonbinary\"\n",
    "    \n",
    "        elif i[\"gender\"] == \"3\":\n",
    "            i[\"gender\"] = \"prefer not to say\"\n",
    "    \n",
    "        elif i[\"gender\"] == \"4\":\n",
    "            i[\"gender\"] = \"prefer to self-describe\"\n",
    "    \n",
    "    global tupla_xml\n",
    "    tupla_xml = []\n",
    "\n",
    "    for i in xml_list:\n",
    "        tupla_xml.append(tuple(i.values()))   \n",
    "          \n",
    "    return 'Tus datos limpios están en tupla_xml'\n",
    "    \n",
    "    "
   ]
  },
  {
   "cell_type": "code",
   "execution_count": 28,
   "metadata": {},
   "outputs": [
    {
     "data": {
      "text/plain": [
       "'Tus datos limpios están en tupla_xml'"
      ]
     },
     "execution_count": 28,
     "metadata": {},
     "output_type": "execute_result"
    }
   ],
   "source": [
    "limpieza_xml(file_source_xml)"
   ]
  }
 ],
 "metadata": {
  "kernelspec": {
   "display_name": "Python 3",
   "language": "python",
   "name": "python3"
  },
  "language_info": {
   "codemirror_mode": {
    "name": "ipython",
    "version": 3
   },
   "file_extension": ".py",
   "mimetype": "text/x-python",
   "name": "python",
   "nbconvert_exporter": "python",
   "pygments_lexer": "ipython3",
   "version": "3.9.7"
  },
  "orig_nbformat": 4,
  "vscode": {
   "interpreter": {
    "hash": "aee8b7b246df8f9039afb4144a1f6fd8d2ca17a180786b69acc140d282b71a49"
   }
  }
 },
 "nbformat": 4,
 "nbformat_minor": 2
}
